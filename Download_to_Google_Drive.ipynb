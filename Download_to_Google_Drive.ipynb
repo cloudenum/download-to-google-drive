{
  "nbformat": 4,
  "nbformat_minor": 0,
  "metadata": {
    "colab": {
      "name": "Download to Google Drive",
      "provenance": [],
      "collapsed_sections": [],
      "include_colab_link": true
    },
    "kernelspec": {
      "display_name": "Python 3",
      "language": "python",
      "name": "python3"
    }
  },
  "cells": [
    {
      "cell_type": "markdown",
      "metadata": {
        "id": "view-in-github",
        "colab_type": "text"
      },
      "source": [
        "<a href=\"https://colab.research.google.com/github/cloudenum/download-to-google-drive/blob/main/Download_to_Google_Drive.ipynb\" target=\"_parent\"><img src=\"https://colab.research.google.com/assets/colab-badge.svg\" alt=\"Open In Colab\"/></a>"
      ]
    },
    {
      "cell_type": "markdown",
      "metadata": {
        "id": "aQuWDmfm9YOi"
      },
      "source": [
        "# Download to Google Drive\n",
        "\n",
        "---\n",
        "\n"
      ]
    },
    {
      "cell_type": "code",
      "metadata": {
        "id": "DBNoYYoSuDBT",
        "colab": {
          "base_uri": "https://localhost:8080/"
        },
        "outputId": "7f6b4d73-d411-4074-a706-82d77fee4424"
      },
      "source": [
        "from google.colab import drive\n",
        "import requests\n",
        "\n",
        "drive.mount(\"/content/drive\")\n",
        "drive_path = \"/content/drive/My Drive/Torrent\"\n",
        "\n",
        "print('File download begins...')\n",
        "\n",
        "url = '' #@param {type: \"string\"}\n",
        "save_to = '' #@param {type: \"string\"}\n",
        "r = requests.get(url)\n",
        "\n",
        "with open(f'{drive_path}/{save_to}', 'wb') as f:\n",
        "    f.write(r.content)\n",
        "\n",
        "print(f'Download finished. Saved file: {filepath}')"
      ],
      "execution_count": 3,
      "outputs": [
        {
          "output_type": "stream",
          "text": [
            "Drive already mounted at /content/drive; to attempt to forcibly remount, call drive.mount(\"/content/drive\", force_remount=True).\n",
            "File download begins...\n",
            "Download finished. Saved file: telegram_x64.exe\n"
          ],
          "name": "stdout"
        }
      ]
    }
  ]
}